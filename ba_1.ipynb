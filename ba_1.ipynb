{
  "cells": [
    {
      "cell_type": "markdown",
      "metadata": {
        "id": "view-in-github",
        "colab_type": "text"
      },
      "source": [
        "<a href=\"https://colab.research.google.com/github/snair317/PyFiles/blob/main/ba_1.ipynb\" target=\"_parent\"><img src=\"https://colab.research.google.com/assets/colab-badge.svg\" alt=\"Open In Colab\"/></a>"
      ]
    },
    {
      "cell_type": "code",
      "execution_count": null,
      "metadata": {
        "colab": {
          "base_uri": "https://localhost:8080/"
        },
        "id": "Uu7s8EmfkNeD",
        "outputId": "4180f959-bebf-41e6-ec5c-8e28f400a7b0"
      },
      "outputs": [
        {
          "name": "stdout",
          "output_type": "stream",
          "text": [
            "hello, learning python\n"
          ]
        }
      ],
      "source": [
        "#THis is single line comment\n",
        "print(\"hello, learning python\")\n"
      ]
    },
    {
      "cell_type": "code",
      "execution_count": null,
      "metadata": {
        "colab": {
          "base_uri": "https://localhost:8080/"
        },
        "id": "l7106Pg6m4Ko",
        "outputId": "55b404e0-0d2f-4bcd-fde9-dd504ce657b9"
      },
      "outputs": [
        {
          "name": "stdout",
          "output_type": "stream",
          "text": [
            "Your Favourite food is: Pizza\n"
          ]
        }
      ],
      "source": [
        "fav_food = \"Pizza\"\n",
        "print(\"Your Favourite food is:\" ,fav_food)\n"
      ]
    },
    {
      "cell_type": "code",
      "execution_count": null,
      "metadata": {
        "id": "o6t61KswncPh"
      },
      "outputs": [],
      "source": [
        "# Your Favourite food is: Pizza"
      ]
    },
    {
      "cell_type": "code",
      "execution_count": null,
      "metadata": {
        "colab": {
          "base_uri": "https://localhost:8080/"
        },
        "id": "F9i3CKJQne-h",
        "outputId": "eebe8a97-c565-4f0d-da3e-b6cc1504810b"
      },
      "outputs": [
        {
          "name": "stdout",
          "output_type": "stream",
          "text": [
            "Please enter your fav food: chicken pizza\n",
            "Your Favourite food is: chicken pizza\n"
          ]
        }
      ],
      "source": [
        "fav_food = input(\"Please enter your fav food: \")\n",
        "print(\"Your Favourite food is:\" ,fav_food)"
      ]
    },
    {
      "cell_type": "code",
      "execution_count": null,
      "metadata": {
        "id": "KXrYwPkEsaZS"
      },
      "outputs": [],
      "source": [
        "#take first number from user\n",
        "#take second number from user\n",
        "#add both number\n",
        "#print the final output"
      ]
    },
    {
      "cell_type": "code",
      "execution_count": null,
      "metadata": {
        "colab": {
          "base_uri": "https://localhost:8080/"
        },
        "id": "4e0k1f2Jtr4o",
        "outputId": "52d5833c-c39b-476c-c3e6-93a0d66f54d1"
      },
      "outputs": [
        {
          "name": "stdout",
          "output_type": "stream",
          "text": [
            "Enter first number10\n",
            "Enter second number50\n",
            "The sum is  60 This is addition of two numbers\n"
          ]
        }
      ],
      "source": [
        "first_number = int(input(\"Enter first number\"))\n",
        "second_number = int(input(\"Enter second number\"))\n",
        "\n",
        "sum = first_number + second_number\n",
        "print(\"The sum is \",sum,\"This is addition of two numbers\")"
      ]
    },
    {
      "cell_type": "code",
      "execution_count": null,
      "metadata": {
        "colab": {
          "base_uri": "https://localhost:8080/"
        },
        "id": "x4RBUyu7ugs5",
        "outputId": "7296b4f6-2375-4d8e-cb81-1ab80866efa2"
      },
      "outputs": [
        {
          "data": {
            "text/plain": [
              "int"
            ]
          },
          "execution_count": 23,
          "metadata": {},
          "output_type": "execute_result"
        }
      ],
      "source": [
        "type(first_number)"
      ]
    },
    {
      "cell_type": "code",
      "execution_count": null,
      "metadata": {
        "colab": {
          "base_uri": "https://localhost:8080/"
        },
        "id": "l84F9HXcumh3",
        "outputId": "2679a1fd-7666-4c0f-f046-3eb32f99ef5b"
      },
      "outputs": [
        {
          "data": {
            "text/plain": [
              "int"
            ]
          },
          "execution_count": 21,
          "metadata": {},
          "output_type": "execute_result"
        }
      ],
      "source": [
        "a = 10\n",
        "type(a)"
      ]
    },
    {
      "cell_type": "code",
      "execution_count": null,
      "metadata": {
        "id": "wqKFFUbrv_n_"
      },
      "outputs": [],
      "source": [
        "#If\n",
        "#If else\n",
        "#if elif el elifse"
      ]
    },
    {
      "cell_type": "code",
      "execution_count": null,
      "metadata": {
        "colab": {
          "base_uri": "https://localhost:8080/"
        },
        "id": "3MB1bkK_wwcU",
        "outputId": "a6d1442d-f2f5-48dd-8357-7545e3f61e5b"
      },
      "outputs": [
        {
          "name": "stdout",
          "output_type": "stream",
          "text": [
            "no less than 50\n"
          ]
        }
      ],
      "source": [
        "a = 40\n",
        "\n",
        "if a > 50:\n",
        "  print(\"nos greater than 50\")\n",
        "else:\n",
        "  print( \"no less than 50\")"
      ]
    },
    {
      "cell_type": "code",
      "execution_count": null,
      "metadata": {
        "id": "1Vy8sE52xvz-"
      },
      "outputs": [],
      "source": [
        "#Take age from user\n",
        "#if age is greater than 18 the person is eligible to vote else not"
      ]
    },
    {
      "cell_type": "code",
      "execution_count": null,
      "metadata": {
        "id": "VFthoTtDy152"
      },
      "outputs": [],
      "source": [
        "age = int(input(\"Enter your age\"))\n",
        "\n",
        "if age>=18:\n",
        "  print(\"You are eligible to vote\")\n",
        "else:\n",
        "  print(\"You are not eligible to vote\")"
      ]
    },
    {
      "cell_type": "code",
      "execution_count": null,
      "metadata": {
        "id": "-qp87ZoGzQu-"
      },
      "outputs": [],
      "source": [
        "#take input credit score\n",
        "#tell your salary\n",
        "#tell your loan amount\n",
        "\n",
        "#credit is greater than 750 , salary is greater 2 times of loan amount then\n",
        "#person is eligible for loan else denied"
      ]
    },
    {
      "cell_type": "code",
      "execution_count": null,
      "metadata": {
        "colab": {
          "base_uri": "https://localhost:8080/"
        },
        "id": "OZrtTtwk1suq",
        "outputId": "b877e454-6dee-4a06-d7ae-671ef5e23bc8"
      },
      "outputs": [
        {
          "name": "stdout",
          "output_type": "stream",
          "text": [
            "Enter your cs800\n",
            "Enter your salary200000000\n",
            "Enter req loan amount50000\n",
            "You are eligible for loan\n"
          ]
        }
      ],
      "source": [
        "credit_score = int(input(\"Enter your cs\"))\n",
        "salary = float(input(\"Enter your salary\"))\n",
        "loan_am = float(input(\"Enter req loan amount\"))\n",
        "\n",
        "if credit_score > 750 and salary>2*loan_am:\n",
        "  print(\"You are eligible for loan\")\n",
        "else:\n",
        "  print(\"You are not eligible for loan\")"
      ]
    },
    {
      "cell_type": "code",
      "execution_count": null,
      "metadata": {
        "id": "VTQGgUAL3KUL"
      },
      "outputs": [],
      "source": [
        "#if its not raining and temperature is b/w 15 and 25 - > walk"
      ]
    },
    {
      "cell_type": "code",
      "execution_count": null,
      "metadata": {
        "colab": {
          "base_uri": "https://localhost:8080/"
        },
        "id": "FN6ZWOEt5oXb",
        "outputId": "9a609d01-7619-4e44-81ae-50acb778f74c"
      },
      "outputs": [
        {
          "name": "stdout",
          "output_type": "stream",
          "text": [
            "Enter yes/no if its rainingNo\n",
            "Enter temp18\n",
            "go for walk\n"
          ]
        }
      ],
      "source": [
        "is_raining = input(\"Enter yes/no if its raining\").lower()\n",
        "\n",
        "temp = float(input(\"Enter temp\"))\n",
        "\n",
        "if is_raining == \"no\" and 15<=temp<=25:\n",
        "  print(\"go for walk\")\n",
        "else:\n",
        "  print(\"Dont go for walk\")"
      ]
    },
    {
      "cell_type": "code",
      "execution_count": null,
      "metadata": {
        "colab": {
          "base_uri": "https://localhost:8080/"
        },
        "id": "_6FwsHwv8g9G",
        "outputId": "cc86c58c-4fe5-4397-fb2c-82ba9f5d2f5b"
      },
      "outputs": [
        {
          "name": "stdout",
          "output_type": "stream",
          "text": [
            "Hot\n"
          ]
        }
      ],
      "source": [
        "temp = 26.5\n",
        "\n",
        "if temp<0:\n",
        "  print(\"Freezing\")\n",
        "elif 0<=temp<=15:\n",
        "  print(\"cold\")\n",
        "elif 15<=temp<=25:\n",
        "  print(\"Normal\")\n",
        "else:\n",
        "  print(\"Hot\")"
      ]
    },
    {
      "cell_type": "code",
      "execution_count": null,
      "metadata": {
        "colab": {
          "base_uri": "https://localhost:8080/"
        },
        "id": "9FaLUyVW85_Y",
        "outputId": "cf6129a1-22dc-4c7d-f314-5e249b7c6683"
      },
      "outputs": [
        {
          "data": {
            "text/plain": [
              "float"
            ]
          },
          "execution_count": 39,
          "metadata": {},
          "output_type": "execute_result"
        }
      ],
      "source": [
        "type(temp)"
      ]
    },
    {
      "cell_type": "code",
      "execution_count": null,
      "metadata": {
        "id": "c4QxMipX_UrO"
      },
      "outputs": [],
      "source": [
        "#loops\n",
        "\n",
        "#for # While\n",
        "\n",
        "#for->"
      ]
    },
    {
      "cell_type": "code",
      "execution_count": null,
      "metadata": {
        "colab": {
          "base_uri": "https://localhost:8080/"
        },
        "id": "rY9BUtaf__e_",
        "outputId": "fdb39e71-bc85-4017-e749-662fd37527a8"
      },
      "outputs": [
        {
          "name": "stdout",
          "output_type": "stream",
          "text": [
            "5\n",
            "6\n",
            "7\n",
            "8\n",
            "9\n",
            "10\n"
          ]
        }
      ],
      "source": [
        "for i in range(5,11):\n",
        "  print(i)"
      ]
    },
    {
      "cell_type": "code",
      "execution_count": null,
      "metadata": {
        "colab": {
          "base_uri": "https://localhost:8080/"
        },
        "id": "0nXvEhtyBrYC",
        "outputId": "e824391b-ac69-43e6-f5ec-73af1896eb54"
      },
      "outputs": [
        {
          "name": "stdout",
          "output_type": "stream",
          "text": [
            "1\n",
            "2\n"
          ]
        }
      ],
      "source": [
        "count = 1\n",
        "\n",
        "while count<3:\n",
        "  print(count)\n",
        "  count=count+1"
      ]
    },
    {
      "cell_type": "code",
      "execution_count": null,
      "metadata": {
        "id": "A7z3tyKxEIaI"
      },
      "outputs": [],
      "source": [
        "#break #continue #pass"
      ]
    },
    {
      "cell_type": "code",
      "execution_count": null,
      "metadata": {
        "colab": {
          "base_uri": "https://localhost:8080/"
        },
        "id": "5cYm2EGJEgRn",
        "outputId": "43851fa8-67bd-4129-900b-d5f31f87cc6f"
      },
      "outputs": [
        {
          "name": "stdout",
          "output_type": "stream",
          "text": [
            "1\n",
            "2\n",
            "3\n"
          ]
        }
      ],
      "source": [
        "for i in range(1,6):\n",
        "  print(i)\n",
        "\n",
        "  if i==3:\n",
        "    break"
      ]
    },
    {
      "cell_type": "code",
      "execution_count": null,
      "metadata": {
        "colab": {
          "base_uri": "https://localhost:8080/"
        },
        "id": "Zn_dDVBYFDIM",
        "outputId": "6247084e-ee68-41a3-c627-2d82a061c95f"
      },
      "outputs": [
        {
          "name": "stdout",
          "output_type": "stream",
          "text": [
            "1\n",
            "2\n",
            "4\n",
            "5\n"
          ]
        }
      ],
      "source": [
        "for i in range(1,6):\n",
        "  if i==3:\n",
        "    continue\n",
        "  print(i)"
      ]
    },
    {
      "cell_type": "code",
      "execution_count": null,
      "metadata": {
        "colab": {
          "base_uri": "https://localhost:8080/"
        },
        "id": "E4QQIfhQHH5c",
        "outputId": "bb15e170-5b68-47b5-d220-e959414ec134"
      },
      "outputs": [
        {
          "name": "stdout",
          "output_type": "stream",
          "text": [
            "add code latrer\n"
          ]
        }
      ],
      "source": [
        "for i in range(1,6):\n",
        "  pass\n",
        "print(\"add code latrer\")"
      ]
    },
    {
      "cell_type": "code",
      "execution_count": null,
      "metadata": {
        "colab": {
          "base_uri": "https://localhost:8080/"
        },
        "id": "81uRhusjNxPZ",
        "outputId": "557b41a8-d81d-4581-afb1-a6d9bda8c10f"
      },
      "outputs": [
        {
          "name": "stdout",
          "output_type": "stream",
          "text": [
            "Requirement already satisfied: pandas in /usr/local/lib/python3.12/dist-packages (2.2.2)\n",
            "Requirement already satisfied: numpy>=1.26.0 in /usr/local/lib/python3.12/dist-packages (from pandas) (2.0.2)\n",
            "Requirement already satisfied: python-dateutil>=2.8.2 in /usr/local/lib/python3.12/dist-packages (from pandas) (2.9.0.post0)\n",
            "Requirement already satisfied: pytz>=2020.1 in /usr/local/lib/python3.12/dist-packages (from pandas) (2025.2)\n",
            "Requirement already satisfied: tzdata>=2022.7 in /usr/local/lib/python3.12/dist-packages (from pandas) (2025.2)\n",
            "Requirement already satisfied: six>=1.5 in /usr/local/lib/python3.12/dist-packages (from python-dateutil>=2.8.2->pandas) (1.17.0)\n"
          ]
        }
      ],
      "source": [
        "pip install pandas"
      ]
    },
    {
      "cell_type": "code",
      "execution_count": null,
      "metadata": {
        "id": "UIALcdm1OEqH"
      },
      "outputs": [],
      "source": [
        "import pandas as pd"
      ]
    },
    {
      "cell_type": "code",
      "execution_count": null,
      "metadata": {
        "colab": {
          "base_uri": "https://localhost:8080/"
        },
        "id": "-JK3CYmki8cA",
        "outputId": "10b8f89f-67e0-4005-f8f5-a2159bcc55fb"
      },
      "outputs": [
        {
          "name": "stdout",
          "output_type": "stream",
          "text": [
            "Enter a number3\n",
            "1\n",
            "2\n",
            "3\n",
            "sum of the entered numbers are  6\n"
          ]
        }
      ],
      "source": [
        "#if the number is 3\n",
        "#utput 6\n",
        "\n",
        "a= int(input(\"Enter a number\"))\n",
        "total = 0\n",
        "for i in range(1,a+1): #i=1\n",
        "  total += i #0+1\n",
        "  print(i)\n",
        "print(\"sum of the entered numbers are \",total)"
      ]
    },
    {
      "cell_type": "code",
      "execution_count": null,
      "metadata": {
        "colab": {
          "base_uri": "https://localhost:8080/"
        },
        "id": "MsCCg-mApsnP",
        "outputId": "fd8caeeb-6705-4d5e-9ccd-17f87bcbd9ee"
      },
      "outputs": [
        {
          "name": "stdout",
          "output_type": "stream",
          "text": [
            "Enter your battery #3\n",
            "Beep Beep!\n",
            "Beep Beep!\n",
            "Beep Beep!\n",
            "Phone dead\n"
          ]
        }
      ],
      "source": [
        "#take a input from user (battery) - 5\n",
        "#print beep beep until the battery reches 0\n",
        "#if its 0 print phone is dead\n",
        "\n",
        "battery = int(input(\"Enter your battery #\"))\n",
        "\n",
        "while battery>0:\n",
        "  print(\"Beep Beep!\")\n",
        "  battery -=1\n",
        "print(\"Phone dead\")"
      ]
    },
    {
      "cell_type": "code",
      "execution_count": null,
      "metadata": {
        "colab": {
          "base_uri": "https://localhost:8080/"
        },
        "id": "HgYHuXdYtcDI",
        "outputId": "38b52100-4737-462c-e802-2a0c7c05f0a3"
      },
      "outputs": [
        {
          "name": "stdout",
          "output_type": "stream",
          "text": [
            "561\n"
          ]
        }
      ],
      "source": [
        "a = 5614\n",
        "\n",
        "b= a//10\n",
        "\n",
        "print(b)\n",
        "\n",
        "\n",
        "count=4"
      ]
    },
    {
      "cell_type": "code",
      "execution_count": null,
      "metadata": {
        "colab": {
          "base_uri": "https://localhost:8080/"
        },
        "id": "E5lU7Q4wuEFU",
        "outputId": "b7af1b69-b4ad-4c69-eae2-dd9604a48d96"
      },
      "outputs": [
        {
          "output_type": "stream",
          "name": "stdout",
          "text": [
            "4\n"
          ]
        }
      ],
      "source": [
        "#56149\n",
        "\n",
        "#->5\n",
        "\n",
        "num = 5614\n",
        "\n",
        "count = 0\n",
        "\n",
        "while num>0:\n",
        "  num=num//10\n",
        "  count +=1\n",
        "print(count)"
      ]
    },
    {
      "cell_type": "code",
      "execution_count": null,
      "metadata": {
        "id": "6h7dTBYSyR7R"
      },
      "outputs": [],
      "source": [
        "#num is  5614\n",
        "#count\n",
        "\n",
        "#first loop => is 5614>0 -. Yes\n",
        "  #561//10 4-> 561\n",
        "  #num=561\n",
        "  #count is 0 +1 = 1\n",
        "\n",
        " #second loop-   #561//10 -> 56\n",
        "  #num=56\n",
        "  #count is 1+1 = 2\n",
        "\n",
        " #third loop-   #56//10 -> 5\n",
        "  #num=5\n",
        "  #count is 2+1 = 3\n",
        "\n",
        " #fourth loop-   #5//10 -> 0\n",
        "  #num=0\n",
        "  #count is 3+1 = 4\n"
      ]
    },
    {
      "cell_type": "code",
      "execution_count": null,
      "metadata": {
        "colab": {
          "base_uri": "https://localhost:8080/"
        },
        "id": "HSjD7F8f1H8A",
        "outputId": "9bbf4e40-e640-4d34-fb37-da6a5537b8c9"
      },
      "outputs": [
        {
          "name": "stdout",
          "output_type": "stream",
          "text": [
            "265\n"
          ]
        }
      ],
      "source": [
        "num = 562\n",
        "reverse = 0\n",
        "\n",
        "while num>0:               #562\n",
        "  digits = num%10            #562%10 = 2\n",
        "  reverse = reverse*10 +digits   #2\n",
        "  num =num//10 -562//10 - 56\n",
        "print(reverse)"
      ]
    },
    {
      "cell_type": "code",
      "execution_count": null,
      "metadata": {
        "colab": {
          "base_uri": "https://localhost:8080/"
        },
        "id": "7DYUOWVhIgfK",
        "outputId": "efc9c0ca-8078-47ff-816c-b70c1b5c99a6"
      },
      "outputs": [
        {
          "name": "stdout",
          "output_type": "stream",
          "text": [
            "Please enter a number23\n"
          ]
        }
      ],
      "source": [
        "a = int(input(\"Please enter a number\")) #23\n",
        "cube = 0\n",
        "\n",
        "while a > 0:                   #23\n",
        "  digits = a % 10        #a=3\n",
        "  cube = digits**3     #27\n",
        "  number = nu//10       #num=0\n",
        "\n",
        "\n",
        "print(cube)"
      ]
    },
    {
      "cell_type": "code",
      "execution_count": null,
      "metadata": {
        "colab": {
          "base_uri": "https://localhost:8080/",
          "height": 110
        },
        "id": "MTNesKjoF2YS",
        "outputId": "ab77e9b1-40b5-4c77-d4cd-04d75c53f787"
      },
      "outputs": [
        {
          "ename": "SyntaxError",
          "evalue": "cannot assign to expression here. Maybe you meant '==' instead of '='? (ipython-input-2321296494.py, line 3)",
          "output_type": "error",
          "traceback": [
            "\u001b[0;36m  File \u001b[0;32m\"/tmp/ipython-input-2321296494.py\"\u001b[0;36m, line \u001b[0;32m3\u001b[0m\n\u001b[0;31m    2*2*2 = 8\u001b[0m\n\u001b[0m    ^\u001b[0m\n\u001b[0;31mSyntaxError\u001b[0m\u001b[0;31m:\u001b[0m cannot assign to expression here. Maybe you meant '==' instead of '='?\n"
          ]
        }
      ],
      "source": [
        "a=245\n",
        "\n",
        "2*2*2 = 8\n",
        "4*4*4 = 64\n",
        "5*5*5=125\n",
        "\n",
        "sum = 845\n",
        "\n"
      ]
    },
    {
      "cell_type": "code",
      "execution_count": null,
      "metadata": {
        "colab": {
          "background_save": true
        },
        "id": "WA2GlRmwRJrP",
        "outputId": "cf07affe-6d24-4ccb-9bb5-6a845c1c1935"
      },
      "outputs": [
        {
          "name": "stdout",
          "output_type": "stream",
          "text": [
            "(10, 12, 13, 154)\n"
          ]
        }
      ],
      "source": [
        "# Data structures\n",
        "\n",
        "a = 10,12,13,154,\n",
        "\n",
        "print(a)\n",
        "\n",
        "#list , #tuple #sets #dictinoary"
      ]
    },
    {
      "cell_type": "code",
      "source": [
        "# 5\n",
        "\n",
        "a = 5\n",
        "\n",
        "for num in range(2,a+1):  #4\n",
        "  is_prime = True\n",
        "\n",
        "  for i in range(2,num):  #2,4  i=2\n",
        "    if num%i==0:    # 4%2 =0\n",
        "      is_prime = False\n",
        "      break\n",
        "\n",
        "  if is_prime == True:\n",
        "    print(num )\n",
        "\n"
      ],
      "metadata": {
        "colab": {
          "base_uri": "https://localhost:8080/"
        },
        "id": "nl653jw0p6oh",
        "outputId": "8ceb4066-ef64-4755-cc38-c727ae18d186"
      },
      "execution_count": null,
      "outputs": [
        {
          "output_type": "stream",
          "name": "stdout",
          "text": [
            "2\n",
            "3\n",
            "5\n"
          ]
        }
      ]
    },
    {
      "cell_type": "code",
      "source": [
        "#data structures\n",
        "\n",
        "#list\n",
        "\n",
        "list_1 = [2,4,5,6,677,7766,\"shree\",True,\"shree\"]\n",
        "\n",
        "#indexing\n",
        "\n",
        "print(list_1[1])\n",
        "#ordered\n",
        "\n",
        "list_1.append(\"Pillai\")\n",
        "\n",
        "list_1.remove(7766)\n",
        "\n",
        "\n",
        "list_1.insert(2,\"MES\")\n",
        "print(list_1)\n",
        "\n",
        "removed_data = list_1.pop(4)\n",
        "\n",
        "removed_data\n",
        "\n",
        "list_1[0]=\"PIMSR\"\n",
        "print(list_1)\n",
        "\n",
        "removed_data = list_1.pop(4)\n",
        "\n",
        "print(removed_data)\n",
        "print(list_1)"
      ],
      "metadata": {
        "colab": {
          "base_uri": "https://localhost:8080/"
        },
        "id": "LFguQ154wwFS",
        "outputId": "47312780-d1f7-4d9c-c07c-8eb411d63665"
      },
      "execution_count": null,
      "outputs": [
        {
          "output_type": "stream",
          "name": "stdout",
          "text": [
            "4\n",
            "[2, 4, 'MES', 5, 6, 677, 'shree', True, 'shree', 'Pillai']\n",
            "['PIMSR', 4, 'MES', 5, 677, 'shree', True, 'shree', 'Pillai']\n",
            "677\n",
            "['PIMSR', 4, 'MES', 5, 'shree', True, 'shree', 'Pillai']\n"
          ]
        }
      ]
    },
    {
      "cell_type": "code",
      "source": [
        "#tuple\n",
        "\n",
        "tuple_1 = (2,\"shree\",\"PIMSR\",100,\"shree\")\n",
        "type(tuple_1)\n",
        "print(tuple_1[0])\n",
        "tuple_1.remove(2)\n",
        " #tuple_1 .append(\"PCE\")\n",
        "print(tuple_1)"
      ],
      "metadata": {
        "colab": {
          "base_uri": "https://localhost:8080/",
          "height": 228
        },
        "id": "SdLvLqCy34zs",
        "outputId": "eef1f1f8-7606-4572-d5e0-3ebdb0df0ce1"
      },
      "execution_count": null,
      "outputs": [
        {
          "output_type": "stream",
          "name": "stdout",
          "text": [
            "2\n"
          ]
        },
        {
          "output_type": "error",
          "ename": "AttributeError",
          "evalue": "'tuple' object has no attribute 'remove'",
          "traceback": [
            "\u001b[0;31m---------------------------------------------------------------------------\u001b[0m",
            "\u001b[0;31mAttributeError\u001b[0m                            Traceback (most recent call last)",
            "\u001b[0;32m/tmp/ipython-input-2586877095.py\u001b[0m in \u001b[0;36m<cell line: 0>\u001b[0;34m()\u001b[0m\n\u001b[1;32m      4\u001b[0m \u001b[0mtype\u001b[0m\u001b[0;34m(\u001b[0m\u001b[0mtuple_1\u001b[0m\u001b[0;34m)\u001b[0m\u001b[0;34m\u001b[0m\u001b[0;34m\u001b[0m\u001b[0m\n\u001b[1;32m      5\u001b[0m \u001b[0mprint\u001b[0m\u001b[0;34m(\u001b[0m\u001b[0mtuple_1\u001b[0m\u001b[0;34m[\u001b[0m\u001b[0;36m0\u001b[0m\u001b[0;34m]\u001b[0m\u001b[0;34m)\u001b[0m\u001b[0;34m\u001b[0m\u001b[0;34m\u001b[0m\u001b[0m\n\u001b[0;32m----> 6\u001b[0;31m \u001b[0mtuple_1\u001b[0m\u001b[0;34m.\u001b[0m\u001b[0mremove\u001b[0m\u001b[0;34m(\u001b[0m\u001b[0;36m2\u001b[0m\u001b[0;34m)\u001b[0m\u001b[0;34m\u001b[0m\u001b[0;34m\u001b[0m\u001b[0m\n\u001b[0m\u001b[1;32m      7\u001b[0m  \u001b[0;31m#tuple_1 .append(\"PCE\")\u001b[0m\u001b[0;34m\u001b[0m\u001b[0;34m\u001b[0m\u001b[0m\n\u001b[1;32m      8\u001b[0m \u001b[0mprint\u001b[0m\u001b[0;34m(\u001b[0m\u001b[0mtuple_1\u001b[0m\u001b[0;34m)\u001b[0m\u001b[0;34m\u001b[0m\u001b[0;34m\u001b[0m\u001b[0m\n",
            "\u001b[0;31mAttributeError\u001b[0m: 'tuple' object has no attribute 'remove'"
          ]
        }
      ]
    },
    {
      "cell_type": "code",
      "source": [
        "#sets\n",
        "\n",
        "list_1 = [2,4,5,6,677,7766,\"shree\",True,\"shree\"]\n",
        "\n",
        "set_1 = set(list_1)\n",
        "\n",
        "print(set_1)\n",
        "\n",
        "set_1.add(\"shreepimsr\")\n",
        "print(set_1)"
      ],
      "metadata": {
        "colab": {
          "base_uri": "https://localhost:8080/"
        },
        "id": "YTp_3-BSAj2P",
        "outputId": "f7a4b48f-9062-494f-ca8f-fd9d69366e66"
      },
      "execution_count": null,
      "outputs": [
        {
          "output_type": "stream",
          "name": "stdout",
          "text": [
            "{True, 2, 'shree', 4, 5, 6, 677, 7766}\n",
            "{True, 2, 'shree', 4, 5, 6, 677, 'shreepimsr', 7766}\n"
          ]
        }
      ]
    },
    {
      "cell_type": "code",
      "source": [
        "visitors = [\"user1\",\"user2\",\"user1\",\"user3\",\"user1\",\"user2\" ]\n",
        "print(visitors)\n",
        "unique_vistors = set(visitors )\n",
        "print(unique_vistors)\n",
        "\n",
        "if \"user1\" in unique_vistors:\n",
        "  print(\"user1 visited\")\n",
        "else:\n",
        "  print(\"user 1 not visited\")"
      ],
      "metadata": {
        "colab": {
          "base_uri": "https://localhost:8080/"
        },
        "id": "TgsQSte8B5r2",
        "outputId": "ac5c7d90-2f33-4fc8-db3d-e099a140a2dd"
      },
      "execution_count": null,
      "outputs": [
        {
          "output_type": "stream",
          "name": "stdout",
          "text": [
            "['user1', 'user2', 'user1', 'user3', 'user1', 'user2']\n",
            "{'user1', 'user3', 'user2'}\n",
            "not there\n"
          ]
        }
      ]
    },
    {
      "cell_type": "code",
      "source": [
        "#dict  #key # value\n",
        "\n",
        "dictionary_1 = {\n",
        "    \"age\": [24,25,16],\n",
        "    #\"age\":25,\n",
        "    1:\"shree\"\n",
        "\n",
        "}\n",
        "\n",
        "dictionary_1 [1]=\"PIMSR\"\n",
        "\n",
        "print(dictionary_1)\n",
        "\n",
        "type(dictionary_1)"
      ],
      "metadata": {
        "colab": {
          "base_uri": "https://localhost:8080/"
        },
        "id": "At0F0gBYDllW",
        "outputId": "7df82ed2-fb43-40a9-d968-7295de633306"
      },
      "execution_count": null,
      "outputs": [
        {
          "output_type": "stream",
          "name": "stdout",
          "text": [
            "{'age': [24, 25, 16], 1: 'PIMSR'}\n"
          ]
        },
        {
          "output_type": "execute_result",
          "data": {
            "text/plain": [
              "dict"
            ]
          },
          "metadata": {},
          "execution_count": 74
        }
      ]
    },
    {
      "cell_type": "code",
      "source": [
        "data = [1,4,-2,6,-25,50]\n",
        "count=0\n",
        "for i in data:\n",
        "  if i>=0:\n",
        "    count+=1\n",
        "print(count)"
      ],
      "metadata": {
        "colab": {
          "base_uri": "https://localhost:8080/"
        },
        "id": "uyy--jYlJqPA",
        "outputId": "8eaf4a11-a68f-45ec-aa18-9c2c27066946"
      },
      "execution_count": null,
      "outputs": [
        {
          "output_type": "stream",
          "name": "stdout",
          "text": [
            "4\n"
          ]
        }
      ]
    },
    {
      "cell_type": "code",
      "source": [
        "data = [1,4,5,67,\"NA\",None,5,\"NA\"]\n",
        "cleaned_list=[]\n",
        "for i in data:\n",
        "  if i is not None and i!=\"NA\":\n",
        "    cleaned_list.append(i)\n",
        "print(cleaned_list)"
      ],
      "metadata": {
        "colab": {
          "base_uri": "https://localhost:8080/"
        },
        "id": "SBuB6IEBLsDH",
        "outputId": "1235554d-2793-4a5f-aa42-fc7d89585c17"
      },
      "execution_count": null,
      "outputs": [
        {
          "output_type": "stream",
          "name": "stdout",
          "text": [
            "[1, 4, 5, 67, 5]\n"
          ]
        }
      ]
    },
    {
      "cell_type": "code",
      "source": [
        "purchases = [\"u1\",\"u2\",\"u3\",\"u1\",\"u6\",\"u3\",\"u4\",\"u1\",\"u1\"]\n",
        "purchases_dict= {}\n",
        "for i in purchases:\n",
        "  if i in purchases_dict:\n",
        "     purchases_dict[i]+=1\n",
        "  else:\n",
        "    purchases_dict[i]=1\n",
        "print(purchases_dict)\n",
        "\n",
        "repeat_buyer=0\n",
        "for user_id in purchases_dict:\n",
        "  count = purchases_dict[user_id]\n",
        "\n",
        "  if count>3:\n",
        "    repeat_buyer=repeat_buyer+1\n",
        "print(repeat_buyer)"
      ],
      "metadata": {
        "colab": {
          "base_uri": "https://localhost:8080/"
        },
        "id": "vIlgvd_XPfyZ",
        "outputId": "8655d528-cc6e-49f2-9ca9-a18bd7ea8892"
      },
      "execution_count": null,
      "outputs": [
        {
          "output_type": "stream",
          "name": "stdout",
          "text": [
            "{'u1': 4, 'u2': 1, 'u3': 2, 'u6': 1, 'u4': 1}\n",
            "1\n"
          ]
        }
      ]
    },
    {
      "cell_type": "code",
      "source": [
        "email=\"shree@gmail.com\"\n",
        "name,domian = a.split(\"@\")\n",
        "domian\n"
      ],
      "metadata": {
        "colab": {
          "base_uri": "https://localhost:8080/",
          "height": 35
        },
        "id": "TtbALJRplEUO",
        "outputId": "1a695063-3a96-40f6-a9da-3a8c9e7fdebe"
      },
      "execution_count": null,
      "outputs": [
        {
          "output_type": "execute_result",
          "data": {
            "text/plain": [
              "'gmail.com'"
            ],
            "application/vnd.google.colaboratory.intrinsic+json": {
              "type": "string"
            }
          },
          "metadata": {},
          "execution_count": 18
        }
      ]
    },
    {
      "cell_type": "code",
      "source": [
        "email_id = [\"shree@Gmail.com\",\"pqr@amazon.com\",\"pimsr@mes.com\",\"qbc@gmail.com\",\n",
        "            \"abc_pol_com\"]\n",
        "\n",
        "domian_final=[]\n",
        "for email in email_id:\n",
        "  if \"@\" in email:\n",
        "    name,domian=email.split(\"@\")\n",
        "    domian_final.append(domian.lower())\n",
        "print(\"This are my domain names\",domian_final)\n",
        "\n",
        "\n",
        "unique_domain = set(domian_final)\n",
        "print(f\"This are my unique domain names: {unique_domain} \")\n",
        "\n",
        "\n",
        "domain_dict={}\n",
        "\n",
        "\n"
      ],
      "metadata": {
        "colab": {
          "base_uri": "https://localhost:8080/"
        },
        "id": "5QbuDLOqm3Qw",
        "outputId": "e37640d2-71fc-4182-ec32-09fb1e37c25d"
      },
      "execution_count": null,
      "outputs": [
        {
          "output_type": "stream",
          "name": "stdout",
          "text": [
            "This are the domain names: ['gmail.com', 'amazon.com', 'mes.com', 'gmail.com']\n",
            "This are my unique domain names: {'gmail.com', 'mes.com', 'amazon.com'} \n"
          ]
        }
      ]
    },
    {
      "cell_type": "code",
      "source": [
        "#functions\n",
        "#oops"
      ],
      "metadata": {
        "id": "39NL9TbC6HTn"
      },
      "execution_count": null,
      "outputs": []
    },
    {
      "cell_type": "code",
      "source": [
        "def say_hello(s):\n",
        "  print(\"Hello world\",s)\n",
        "\n",
        "say_hello(\"shree\")\n",
        "say_hello(\"pimsr\")\n",
        "say_hello(\"abc\")"
      ],
      "metadata": {
        "colab": {
          "base_uri": "https://localhost:8080/"
        },
        "id": "iC6368kn6ZLg",
        "outputId": "22058820-7f4e-4d7b-8602-7e76674911ed"
      },
      "execution_count": null,
      "outputs": [
        {
          "output_type": "stream",
          "name": "stdout",
          "text": [
            "Hello world shree\n",
            "Hello world pimsr\n",
            "Hello world abc\n"
          ]
        }
      ]
    },
    {
      "cell_type": "code",
      "source": [
        "def add_2(num1,num2):\n",
        "  total = num1*num2\n",
        "  print(total)\n",
        "  return total\n",
        "\n",
        "result = add_2(3,2)\n",
        "\n",
        "\n",
        "print(result)"
      ],
      "metadata": {
        "colab": {
          "base_uri": "https://localhost:8080/"
        },
        "id": "jKzyN0CP9Jkr",
        "outputId": "456d8a5e-e0f7-4d30-814a-66a10aa58373"
      },
      "execution_count": null,
      "outputs": [
        {
          "output_type": "stream",
          "name": "stdout",
          "text": [
            "6\n",
            "6\n"
          ]
        }
      ]
    },
    {
      "cell_type": "code",
      "source": [
        "#palindrome\n",
        "def palindrome_1(s):\n",
        "    cleaned_s=s.replace(\" \",\"\").lower()\n",
        "\n",
        "    reverse_s = cleaned_s[::-1].lower()\n",
        "    print(cleaned_s)\n",
        "    print(reverse_s)\n",
        "\n",
        "    if cleaned_s==reverse_s:\n",
        "      print(f\"{cleaned_s} is a palindrome \")\n",
        "    else:\n",
        "      print(\"Not a Palindrome\")\n",
        "\n",
        "palindrome_1(\"Civic\")\n"
      ],
      "metadata": {
        "colab": {
          "base_uri": "https://localhost:8080/"
        },
        "id": "ImMkHTcs9qCO",
        "outputId": "89dcec54-e446-4bbe-d1db-934d5510083a"
      },
      "execution_count": null,
      "outputs": [
        {
          "output_type": "stream",
          "name": "stdout",
          "text": [
            "civic\n",
            "civic\n",
            "civic is a palindrome\n"
          ]
        }
      ]
    },
    {
      "cell_type": "code",
      "source": [
        "vowels = \"aeiouAEIOU\"\n",
        "\n",
        "def check_vowels(s):\n",
        "  count = 0\n",
        "  for i in s:\n",
        "    if i in vowels:\n",
        "      count+=1\n",
        "  return count\n",
        "result=check_vowels(\"hello world\")\n",
        "print(result)"
      ],
      "metadata": {
        "colab": {
          "base_uri": "https://localhost:8080/"
        },
        "id": "a8YvP_JEHIph",
        "outputId": "467c5142-3c1e-404e-adab-0d0b2abe520d"
      },
      "execution_count": null,
      "outputs": [
        {
          "output_type": "stream",
          "name": "stdout",
          "text": [
            "3\n"
          ]
        }
      ]
    },
    {
      "cell_type": "code",
      "source": [
        "def sen(sentence):\n",
        "\n",
        "  sen_dict={}\n",
        "\n",
        "  for i in sentence:\n",
        "\n",
        "    if i==\" \":\n",
        "      continue\n",
        "    i=i.lower()\n",
        "\n",
        "    if i in sen_dict:\n",
        "      sen_dict[i]+=1\n",
        "    else:\n",
        "      sen_dict[i]=1\n",
        "  return sen_dict\n",
        "\n",
        "result= sen(\"hello worldsH\")\n",
        "print(result)"
      ],
      "metadata": {
        "colab": {
          "base_uri": "https://localhost:8080/"
        },
        "id": "NqwctrhVP_ol",
        "outputId": "fee426b2-90f2-4ec2-c8cf-36520a296553"
      },
      "execution_count": null,
      "outputs": [
        {
          "output_type": "stream",
          "name": "stdout",
          "text": [
            "{'h': 2, 'e': 1, 'l': 3, 'o': 2, 'w': 1, 'r': 1, 'd': 1, 's': 1}\n"
          ]
        }
      ]
    },
    {
      "cell_type": "code",
      "source": [
        "import math\n",
        "import time\n",
        "\n",
        "a=16\n",
        "\n",
        "result=math.sqrt(a)\n",
        "print(result)\n",
        "\n",
        "math.pi * r**2"
      ],
      "metadata": {
        "colab": {
          "base_uri": "https://localhost:8080/"
        },
        "id": "ZEhFs0S8WOPl",
        "outputId": "8159b46f-5ea0-4629-9822-66e03c959bab"
      },
      "execution_count": null,
      "outputs": [
        {
          "output_type": "stream",
          "name": "stdout",
          "text": [
            "4.0\n"
          ]
        }
      ]
    },
    {
      "cell_type": "code",
      "source": [
        "#oops\n",
        "\n",
        "#class\n",
        "\n",
        "#constructors\n",
        "\n",
        "#encapsulation"
      ],
      "metadata": {
        "id": "OsT0RNg-YM-b"
      },
      "execution_count": null,
      "outputs": []
    },
    {
      "cell_type": "code",
      "source": [],
      "metadata": {
        "id": "8-JoZlj6ZMb4"
      },
      "execution_count": null,
      "outputs": []
    },
    {
      "cell_type": "code",
      "source": [
        "class atm():\n",
        "\n",
        "  def __init__(self):\n",
        "    self.pin = ''\n",
        "    self.balance=0\n",
        "    self.menu()\n",
        "\n",
        "  def menu(self):\n",
        "   user_input = input(\"\"\"\n",
        "      Press 1 to Create your Pin\n",
        "      Press 2 to Change your Pin\n",
        "      Press 3 to withdraw Money\n",
        "      Press 4 to check Balance\n",
        "      Press 5 to Cancel the transaction\n",
        "    \"\"\")\n",
        "\n",
        "   if user_input=='1':\n",
        "          self.create_pin()\n",
        "   elif user_input=='2':\n",
        "          self.change_pin()\n",
        "\n",
        "   elif user_input=='3':\n",
        "          self.withdraw_money()\n",
        "\n",
        "   elif user_input=='4':\n",
        "          self.check_balance()\n",
        "   else:\n",
        "        exit()\n",
        "\n",
        "  def create_pin(self):\n",
        "    user_pin = input(\"Enter your PIN\")\n",
        "    self.pin=user_pin\n",
        "    print(\"PIN Generation was success\")\n",
        "    user_balance=int(input(\"Enter your Balance\"))\n",
        "    self.balance=user_balance\n",
        "    print(f\"Your balance is {self.balance} Rs\")\n",
        "    self.menu()\n",
        "\n",
        "  def change_pin(self):\n",
        "    old_pin = input(\"Enter your old pin\")\n",
        "    if old_pin==self.pin:\n",
        "      new_pin= input(\"Enter your New PIN\")\n",
        "      self.pin=new_pin\n",
        "      print(\"New Pin sucessfully generated\")\n",
        "      self.menu()\n",
        "    else:\n",
        "      print(\"You entered incorrect pin, Try Again or contact Bank\")\n",
        "      self.menu()\n",
        "\n",
        "  def withdraw_money(self):\n",
        "    val_pin = input(\"Enter Pin to withdraw money\")\n",
        "    if val_pin==self.pin:\n",
        "      print(\"Pin Verified Successfully\")\n",
        "      amount = int(input(\"Enter amount in Rs to withdraw\"))\n",
        "\n",
        "      if amount<=self.balance:\n",
        "        print(f\"{amount} Rs Withdrawn successfully\")\n",
        "        balance= self.balance- amount\n",
        "        self.balance=balance\n",
        "        self.menu()\n",
        "      else:\n",
        "        print(\"Low Balance!! Enter amount less then or equal\")\n",
        "        self.menu()\n",
        "    else:\n",
        "      print(\"Pin is Incorrect! Try again or contatc Bank\")\n",
        "      self.menu()\n",
        "\n",
        "  def check_balance(self):\n",
        "\n",
        "    val_pin = input(\"Enter uour pin\")\n",
        "    if val_pin==self.pin:\n",
        "      print(\"Pin Validation success, your balance is \",self.balance)\n",
        "    else:\n",
        "      print(\"Pin is Incorrect! Try again or contatc Bank\")\n",
        "      self.menu()"
      ],
      "metadata": {
        "id": "Z6d61-xI-xNU"
      },
      "execution_count": 1,
      "outputs": []
    },
    {
      "cell_type": "code",
      "source": [
        "obj = atm()"
      ],
      "metadata": {
        "colab": {
          "base_uri": "https://localhost:8080/"
        },
        "id": "HUjxpTM5AOA1",
        "outputId": "6bd51d95-6a06-47c1-d98a-d52f69e2a75b"
      },
      "execution_count": 2,
      "outputs": [
        {
          "output_type": "stream",
          "name": "stdout",
          "text": [
            "\n",
            "      Press 1 to Create your Pin\n",
            "      Press 2 to Change your Pin\n",
            "      Press 3 to withdraw Money\n",
            "      Press 4 to check Balance\n",
            "      Press 5 to Cancel the transaction\n",
            "    1\n",
            "Enter your PIN1234\n",
            "PIN Generation was success\n",
            "Enter your Balance25000\n",
            "Your balance is 25000 Rs\n",
            "\n",
            "      Press 1 to Create your Pin\n",
            "      Press 2 to Change your Pin\n",
            "      Press 3 to withdraw Money\n",
            "      Press 4 to check Balance\n",
            "      Press 5 to Cancel the transaction\n",
            "    2\n",
            "Enter your old pin5678\n",
            "You entered incorrect pin, Try Again or contact Bank\n",
            "\n",
            "      Press 1 to Create your Pin\n",
            "      Press 2 to Change your Pin\n",
            "      Press 3 to withdraw Money\n",
            "      Press 4 to check Balance\n",
            "      Press 5 to Cancel the transaction\n",
            "    2\n",
            "Enter your old pin1234\n",
            "Enter your New PIN4567\n",
            "New Pin sucessfully generated\n",
            "\n",
            "      Press 1 to Create your Pin\n",
            "      Press 2 to Change your Pin\n",
            "      Press 3 to withdraw Money\n",
            "      Press 4 to check Balance\n",
            "      Press 5 to Cancel the transaction\n",
            "    3\n",
            "Enter Pin to withdraw money1234\n",
            "Pin is Incorrect! Try again or contatc Bank\n",
            "\n",
            "      Press 1 to Create your Pin\n",
            "      Press 2 to Change your Pin\n",
            "      Press 3 to withdraw Money\n",
            "      Press 4 to check Balance\n",
            "      Press 5 to Cancel the transaction\n",
            "    3\n",
            "Enter Pin to withdraw money4567\n",
            "Pin Verified Successfully\n",
            "Enter amount in Rs to withdraw30000\n",
            "Low Balance!! Enter amount less then or equal\n",
            "\n",
            "      Press 1 to Create your Pin\n",
            "      Press 2 to Change your Pin\n",
            "      Press 3 to withdraw Money\n",
            "      Press 4 to check Balance\n",
            "      Press 5 to Cancel the transaction\n",
            "    3\n",
            "Enter Pin to withdraw money4567\n",
            "Pin Verified Successfully\n",
            "Enter amount in Rs to withdraw5000\n",
            "5000 Rs Withdrawn successfully\n",
            "\n",
            "      Press 1 to Create your Pin\n",
            "      Press 2 to Change your Pin\n",
            "      Press 3 to withdraw Money\n",
            "      Press 4 to check Balance\n",
            "      Press 5 to Cancel the transaction\n",
            "    4\n",
            "Enter uour pin4567\n",
            "Pin Validation success, your balance is  20000\n"
          ]
        }
      ]
    },
    {
      "cell_type": "code",
      "source": [
        "class atm():\n",
        "\n",
        "  def __init__(self):\n",
        "    self.pin = ''\n",
        "    self.__balance=0\n",
        "   # self.menu()\n",
        "\n",
        "  def menu(self):\n",
        "   user_input = input(\"\"\"\n",
        "      Press 1 to Create your Pin\n",
        "      Press 2 to Change your Pin\n",
        "      Press 3 to withdraw Money\n",
        "      Press 4 to check Balance\n",
        "      Press 5 to Cancel the transaction\n",
        "    \"\"\")\n",
        "\n",
        "   if user_input=='1':\n",
        "          self.create_pin()\n",
        "   elif user_input=='2':\n",
        "          self.change_pin()\n",
        "\n",
        "   elif user_input=='3':\n",
        "          self.withdraw_money()\n",
        "\n",
        "   elif user_input=='4':\n",
        "          self.check_balance()\n",
        "   else:\n",
        "        exit()\n",
        "\n",
        "  def create_pin(self):\n",
        "    user_pin = input(\"Enter your PIN\")\n",
        "    self.pin=user_pin\n",
        "    print(\"PIN Generation was success\")\n",
        "    user_balance=int(input(\"Enter your Balance\"))\n",
        "    self.__balance=user_balance\n",
        "    print(f\"Your balance is {self.__balance} Rs\")\n",
        "  #  self.menu()\n",
        "\n",
        "  def change_pin(self):\n",
        "    old_pin = input(\"Enter your old pin\")\n",
        "    if old_pin==self.pin:\n",
        "      new_pin= input(\"Enter your New PIN\")\n",
        "      self.pin=new_pin\n",
        "      print(\"New Pin sucessfully generated\")\n",
        "    #  self.menu()\n",
        "    else:\n",
        "      print(\"You entered incorrect pin, Try Again or contact Bank\")\n",
        "    #  self.menu()\n",
        "\n",
        "  def withdraw_money(self):\n",
        "    val_pin = input(\"Enter Pin to withdraw money\")\n",
        "    if val_pin==self.pin:\n",
        "      print(\"Pin Verified Successfully\")\n",
        "      amount = int(input(\"Enter amount in Rs to withdraw\"))\n",
        "\n",
        "      if amount<=self.__balance:\n",
        "        print(f\"{amount} Rs Withdrawn successfully\")\n",
        "        balance= self.__balance- amount\n",
        "        self.__balance=balance\n",
        "      #  self.menu()\n",
        "      else:\n",
        "        print(\"Low Balance!! Enter amount less then or equal\")\n",
        "      #  self.menu()\n",
        "    else:\n",
        "      print(\"Pin is Incorrect! Try again or contatc Bank\")\n",
        "   #   self.menu()\n",
        "\n",
        "  def check_balance(self):\n",
        "\n",
        "    val_pin = input(\"Enter uour pin\")\n",
        "    if val_pin==self.pin:\n",
        "      print(\"Pin Validation success, your balance is \",self.__balance)\n",
        "    else:\n",
        "      print(\"Pin is Incorrect! Try again or contatc Bank\")\n",
        "  #    self.menu()"
      ],
      "metadata": {
        "id": "Kok-gcjHiMxS"
      },
      "execution_count": null,
      "outputs": []
    },
    {
      "cell_type": "code",
      "source": [
        "obj = atm()"
      ],
      "metadata": {
        "id": "Oe0hhr6Pifky"
      },
      "execution_count": null,
      "outputs": []
    },
    {
      "cell_type": "code",
      "source": [
        "#getter and #setter"
      ],
      "metadata": {
        "id": "st3OpgJ_ilrp"
      },
      "execution_count": null,
      "outputs": []
    },
    {
      "cell_type": "code",
      "source": [
        "#inheritance\n",
        "\n",
        "class Animal()\n",
        "\n",
        "  def __contructors\n",
        "        --\n",
        "        --\n",
        "\n",
        "\n",
        "  def sleep()  )\n",
        "\n",
        "class\n",
        "\n",
        "class dog(Animal):\n",
        "\n",
        "  def\n",
        "\n",
        "class cat(Animal):\n"
      ],
      "metadata": {
        "id": "sr9w7b_cl8zV"
      },
      "execution_count": null,
      "outputs": []
    },
    {
      "cell_type": "code",
      "source": [
        "!pip install ABC"
      ],
      "metadata": {
        "colab": {
          "base_uri": "https://localhost:8080/"
        },
        "id": "zqzVPXaft_B5",
        "outputId": "0f60cbec-61b8-4c2d-b2b4-457557a0aaef"
      },
      "execution_count": null,
      "outputs": [
        {
          "output_type": "stream",
          "name": "stdout",
          "text": [
            "\u001b[31mERROR: Could not find a version that satisfies the requirement ABC (from versions: none)\u001b[0m\u001b[31m\n",
            "\u001b[0m\u001b[31mERROR: No matching distribution found for ABC\u001b[0m\u001b[31m\n",
            "\u001b[0m"
          ]
        }
      ]
    },
    {
      "cell_type": "code",
      "source": [
        "from abc import abstractmethod\n",
        "# abstract Method\n",
        "\n",
        "import math\n",
        "\n",
        "from abc import ABC, abstractmethod\n",
        "\n",
        "class Shape(ABC):\n",
        "\n",
        "  @abstractmethod\n",
        "  def area(self):\n",
        "    pass\n",
        "\n",
        "\n",
        "\n",
        "class circle(Shape):\n",
        "  def __init__(self,radius):\n",
        "     self.radius=radius\n",
        "\n",
        "  def area(self):\n",
        "    return math.pi * self.radius ** 2\n",
        "\n",
        "class Rectangle(Shape):\n",
        "  def __init__(self,l,b):\n",
        "     self.l=l\n",
        "     self.b=b\n",
        "\n",
        "  def area(self):\n",
        "    return self.l * self.b\n",
        "\n",
        "\n",
        "class Triangle(Shape):\n",
        "  def __init__(self,l,b):\n",
        "     self.l=l\n",
        "     self.b=b\n",
        "\n",
        "  def area(self):\n",
        "    return  1/2 *  self.l * self.b"
      ],
      "metadata": {
        "id": "hxttmyVqnjL2"
      },
      "execution_count": null,
      "outputs": []
    },
    {
      "cell_type": "code",
      "source": [
        "obj_triangle = Triangle(5,4)"
      ],
      "metadata": {
        "id": "lMcNM2bypE9G"
      },
      "execution_count": null,
      "outputs": []
    },
    {
      "cell_type": "code",
      "source": [
        "obj_triangle.area()"
      ],
      "metadata": {
        "colab": {
          "base_uri": "https://localhost:8080/"
        },
        "id": "XG_GzAb8n-4-",
        "outputId": "1424cf4b-da01-4ad9-b526-4d84d632a1f0"
      },
      "execution_count": null,
      "outputs": [
        {
          "output_type": "execute_result",
          "data": {
            "text/plain": [
              "10.0"
            ]
          },
          "metadata": {},
          "execution_count": 84
        }
      ]
    }
  ],
  "metadata": {
    "colab": {
      "provenance": [],
      "include_colab_link": true
    },
    "kernelspec": {
      "display_name": "Python 3",
      "name": "python3"
    },
    "language_info": {
      "name": "python"
    }
  },
  "nbformat": 4,
  "nbformat_minor": 0
}